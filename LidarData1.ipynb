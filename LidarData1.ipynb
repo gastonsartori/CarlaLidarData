{
 "cells": [
  {
   "cell_type": "code",
   "execution_count": 11,
   "id": "1647ad28",
   "metadata": {},
   "outputs": [],
   "source": [
    "import carla\n",
    "import math\n",
    "import random\n",
    "import time\n",
    "import numpy as np\n",
    "import open3d as o3d"
   ]
  },
  {
   "cell_type": "code",
   "execution_count": 12,
   "id": "c3db3fdd",
   "metadata": {},
   "outputs": [
    {
     "name": "stderr",
     "output_type": "stream",
     "text": [
      "WARNING: Version mismatch detected: You are trying to connect to a simulator that might be incompatible with this API \n",
      "WARNING: Client API version     = 0.9.13 \n",
      "WARNING: Simulator API version  = 0.9.13-1-g8854804f4-dirty \n"
     ]
    },
    {
     "name": "stdout",
     "output_type": "stream",
     "text": [
      "WorldSettings(synchronous_mode=False,no_rendering_mode=False,fixed_delta_seconds=4.4749e-318,substepping=True,max_substep_delta_time=0.01,max_substeps=10,max_culling_distance=0,deterministic_ragdolls=True)\n"
     ]
    }
   ],
   "source": [
    "#Conexion cliente-servidor\n",
    "client = carla.Client('localhost', 2000) #cliente\n",
    "world = client.get_world() #world reprsenta la simulacion, server\n",
    "\n",
    "settings = world.get_settings()\n",
    "print(settings)"
   ]
  },
  {
   "cell_type": "code",
   "execution_count": 13,
   "id": "20248e35",
   "metadata": {},
   "outputs": [
    {
     "data": {
      "text/plain": [
       "20"
      ]
     },
     "execution_count": 13,
     "metadata": {},
     "output_type": "execute_result"
    }
   ],
   "source": [
    "#settings de simulacion\n",
    "\n",
    "#fixed delta - tiempo entre pasos de simulacion fijo\n",
    "#modo sincrono - el server espera un tick del cliente para ejecutar un paso de simulacion\n",
    "\n",
    "delta = 0.05\n",
    "settings.fixed_delta_seconds = delta\n",
    "settings.synchronous_mode = True\n",
    "\n",
    "world.apply_settings(settings)"
   ]
  },
  {
   "cell_type": "code",
   "execution_count": 14,
   "id": "784da91b",
   "metadata": {},
   "outputs": [],
   "source": [
    "#Libreria de blueprints, para spawnear vehiculos, sensores, etc\n",
    "bp_lib = world.get_blueprint_library()"
   ]
  },
  {
   "cell_type": "code",
   "execution_count": 15,
   "id": "723f451e",
   "metadata": {
    "scrolled": false
   },
   "outputs": [],
   "source": [
    "#sensor lidar\n",
    "#Velodyne HDL-64\n",
    "lidar_bp = bp_lib.find('sensor.lidar.ray_cast')\n",
    "#lidar_bp.set_attribute('sensor_tick', '1.0') # 1 segundo tic\n",
    "lidar_bp.set_attribute('channels',str(64))\n",
    "lidar_bp.set_attribute('upper_fov',str(2.0))\n",
    "lidar_bp.set_attribute('lower_fov',str(-24.9))\n",
    "lidar_bp.set_attribute('points_per_second',str(1300000)) #Single Return Mode\n",
    "lidar_bp.set_attribute('rotation_frequency',str(1.0/delta)) #frec de sim = 1/fixed_delta_time = 10 debe coincidir con la frecuencia de rotación para generar una vuelta completa por paso de simulacion\n",
    "lidar_bp.set_attribute('range',str(120))\n",
    "lidar_bp.set_attribute('dropoff_general_rate','0.0')\n",
    "lidar_bp.set_attribute('noise_stddev', '0.01')"
   ]
  },
  {
   "cell_type": "code",
   "execution_count": 16,
   "id": "7b7075c1",
   "metadata": {},
   "outputs": [
    {
     "name": "stdout",
     "output_type": "stream",
     "text": [
      "Transform(Location(x=0.000000, y=0.000000, z=1.120007), Rotation(pitch=0.000000, yaw=0.000000, roll=0.000000))\n"
     ]
    }
   ],
   "source": [
    "#se puede obtener la ubicacion de la camara durante la simulacion\n",
    "spectator = world.get_spectator()\n",
    "spectator_transform = spectator.get_transform()\n",
    "print(spectator_transform)"
   ]
  },
  {
   "cell_type": "code",
   "execution_count": 17,
   "id": "77b1fc12",
   "metadata": {
    "scrolled": true
   },
   "outputs": [],
   "source": [
    "#Spawnear el sensor, ubicacion esqquina de pruebas en TOWN2\n",
    "transform = carla.Transform(carla.Location(x=0.0, y=0.0, z=1.5), \n",
    "                            carla.Rotation(pitch=0.0, yaw=0.0, roll=0.0))\n",
    "sensor_raycast = world.spawn_actor(lidar_bp, transform)"
   ]
  },
  {
   "cell_type": "code",
   "execution_count": 18,
   "id": "eceb947a",
   "metadata": {},
   "outputs": [],
   "source": [
    "def lidar_callback(point_cloud):\n",
    "    \"\"\"Prepares a point cloud with intensity\n",
    "    colors ready to be consumed by Open3D\"\"\"\n",
    "    print(point_cloud)\n",
    "    data = np.copy(np.frombuffer(point_cloud.raw_data, dtype=np.dtype('f4')))\n",
    "    data = np.reshape(data, (int(data.shape[0] / 4), 4))\n",
    "\n",
    "    # Isolate the intensity and compute a color for it\n",
    "    intensity = data[:, -1]\n",
    "    print(intensity)\n",
    "    colors = []\n",
    "    for i in range(len(intensity)):\n",
    "        red=intensity[i]\n",
    "        blue=1.0-intensity[i]\n",
    "        colors.append((red,0.0,blue))\n",
    "        \n",
    "        #if (intensity[i]<0.5):\n",
    "            #colors.append((0.0,0.0,1.0))\n",
    "        #else:\n",
    "            #colors.append((1.0,0.0,0.0))\n",
    "\n",
    "    # Isolate the 3D data\n",
    "    points = data[:, :-1]\n",
    "    # We're negating the y to correclty visualize a world that matches\n",
    "    # what we see in Unreal since Open3D uses a right-handed coordinate system\n",
    "    points[:, :1] = -points[:, :1]\n",
    "    \n",
    "    #point cloud para visualizar\n",
    "    pcd = o3d.geometry.PointCloud()\n",
    "    pcd.points = o3d.utility.Vector3dVector(points)\n",
    "    pcd.colors = o3d.utility.Vector3dVector(colors)\n",
    "    \n",
    "    o3d.visualization.draw_geometries([pcd])"
   ]
  },
  {
   "cell_type": "code",
   "execution_count": 19,
   "id": "abfef51d",
   "metadata": {},
   "outputs": [],
   "source": [
    "\n",
    "sensor_raycast.listen(lambda data: lidar_callback(data))"
   ]
  },
  {
   "cell_type": "code",
   "execution_count": 22,
   "id": "eb1133eb",
   "metadata": {},
   "outputs": [
    {
     "name": "stdout",
     "output_type": "stream",
     "text": [
      "LidarMeasurement(frame=24, timestamp=21.958736, number_of_points=32287)\n",
      "[1.  1.  1.  ... 0.2 0.2 0.2]\n"
     ]
    },
    {
     "data": {
      "text/plain": [
       "24"
      ]
     },
     "execution_count": 22,
     "metadata": {},
     "output_type": "execute_result"
    },
    {
     "ename": "TypeError",
     "evalue": "lidar_callback() takes 1 positional argument but 2 were given",
     "output_type": "error",
     "traceback": [
      "\u001b[0;31m---------------------------------------------------------------------------\u001b[0m",
      "\u001b[0;31mTypeError\u001b[0m                                 Traceback (most recent call last)",
      "Cell \u001b[0;32mIn [9], line 3\u001b[0m, in \u001b[0;36m<lambda>\u001b[0;34m(data)\u001b[0m\n\u001b[1;32m      1\u001b[0m point_list \u001b[38;5;241m=\u001b[39m o3d\u001b[38;5;241m.\u001b[39mgeometry\u001b[38;5;241m.\u001b[39mPointCloud()\n\u001b[0;32m----> 3\u001b[0m sensor_raycast\u001b[38;5;241m.\u001b[39mlisten(\u001b[38;5;28;01mlambda\u001b[39;00m data: \u001b[43mlidar_callback\u001b[49m\u001b[43m(\u001b[49m\u001b[43mdata\u001b[49m\u001b[43m,\u001b[49m\u001b[43mpoint_list\u001b[49m\u001b[43m)\u001b[49m)\n",
      "\u001b[0;31mTypeError\u001b[0m: lidar_callback() takes 1 positional argument but 2 were given"
     ]
    }
   ],
   "source": [
    "# # This ca fix Open3D jittering issues:\n",
    "time.sleep(0.005)\n",
    "world.tick()\n"
   ]
  },
  {
   "cell_type": "code",
   "execution_count": 21,
   "id": "de7e2db7",
   "metadata": {},
   "outputs": [
    {
     "name": "stdout",
     "output_type": "stream",
     "text": [
      "[(1.0, 0.0, 0.0)]\n"
     ]
    },
    {
     "ename": "TypeError",
     "evalue": "lidar_callback() takes 1 positional argument but 2 were given",
     "output_type": "error",
     "traceback": [
      "\u001b[0;31m---------------------------------------------------------------------------\u001b[0m",
      "\u001b[0;31mTypeError\u001b[0m                                 Traceback (most recent call last)",
      "Cell \u001b[0;32mIn [9], line 3\u001b[0m, in \u001b[0;36m<lambda>\u001b[0;34m(data)\u001b[0m\n\u001b[1;32m      1\u001b[0m point_list \u001b[38;5;241m=\u001b[39m o3d\u001b[38;5;241m.\u001b[39mgeometry\u001b[38;5;241m.\u001b[39mPointCloud()\n\u001b[0;32m----> 3\u001b[0m sensor_raycast\u001b[38;5;241m.\u001b[39mlisten(\u001b[38;5;28;01mlambda\u001b[39;00m data: \u001b[43mlidar_callback\u001b[49m\u001b[43m(\u001b[49m\u001b[43mdata\u001b[49m\u001b[43m,\u001b[49m\u001b[43mpoint_list\u001b[49m\u001b[43m)\u001b[49m)\n",
      "\u001b[0;31mTypeError\u001b[0m: lidar_callback() takes 1 positional argument but 2 were given"
     ]
    }
   ],
   "source": [
    "colores=[]\n",
    "intensidad = 1.0\n",
    "red = intensidad\n",
    "blue = 1.0 - intensidad\n",
    "colores.append((red,0.0,blue))\n",
    "\n",
    "print(colores)"
   ]
  }
 ],
 "metadata": {
  "kernelspec": {
   "display_name": "Python 3 (ipykernel)",
   "language": "python",
   "name": "python3"
  },
  "language_info": {
   "codemirror_mode": {
    "name": "ipython",
    "version": 3
   },
   "file_extension": ".py",
   "mimetype": "text/x-python",
   "name": "python",
   "nbconvert_exporter": "python",
   "pygments_lexer": "ipython3",
   "version": "3.8.10"
  }
 },
 "nbformat": 4,
 "nbformat_minor": 5
}
