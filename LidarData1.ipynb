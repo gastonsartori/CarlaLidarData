{
 "cells": [
  {
   "cell_type": "code",
   "execution_count": 1,
   "id": "1647ad28",
   "metadata": {},
   "outputs": [
    {
     "name": "stdout",
     "output_type": "stream",
     "text": [
      "Jupyter environment detected. Enabling Open3D WebVisualizer.\n",
      "[Open3D INFO] WebRTC GUI backend enabled.\n",
      "[Open3D INFO] WebRTCWindowSystem: HTTP handshake server disabled.\n"
     ]
    }
   ],
   "source": [
    "import carla\n",
    "import math\n",
    "import random\n",
    "import time\n",
    "import numpy as np\n",
    "import open3d as o3d"
   ]
  },
  {
   "cell_type": "code",
   "execution_count": 29,
   "id": "c3db3fdd",
   "metadata": {},
   "outputs": [
    {
     "name": "stderr",
     "output_type": "stream",
     "text": [
      "WARNING: Version mismatch detected: You are trying to connect to a simulator that might be incompatible with this API \n",
      "WARNING: Client API version     = 0.9.13 \n",
      "WARNING: Simulator API version  = 0.9.13-1-g8854804f4-dirty \n"
     ]
    },
    {
     "name": "stdout",
     "output_type": "stream",
     "text": [
      "WorldSettings(synchronous_mode=False,no_rendering_mode=False,fixed_delta_seconds=1.239e-318,substepping=True,max_substep_delta_time=0.01,max_substeps=10,max_culling_distance=0,deterministic_ragdolls=True)\n"
     ]
    }
   ],
   "source": [
    "#Conexion cliente-servidor\n",
    "client = carla.Client('localhost', 2000) #cliente\n",
    "world = client.get_world() #world reprsenta la simulacion, server\n",
    "\n",
    "settings = world.get_settings()\n",
    "print(settings)"
   ]
  },
  {
   "cell_type": "code",
   "execution_count": 30,
   "id": "20248e35",
   "metadata": {},
   "outputs": [
    {
     "data": {
      "text/plain": [
       "1184"
      ]
     },
     "execution_count": 30,
     "metadata": {},
     "output_type": "execute_result"
    }
   ],
   "source": [
    "#settings de simulacion\n",
    "\n",
    "#fixed delta - tiempo entre pasos de simulacion fijo\n",
    "#modo sincrono - el server espera un tick del cliente para ejecutar un paso de simulacion\n",
    "\n",
    "FPS = 10.0\n",
    "settings.fixed_delta_seconds = 1.0/FPS\n",
    "settings.synchronous_mode = True\n",
    "world.apply_settings(settings)"
   ]
  },
  {
   "cell_type": "code",
   "execution_count": 31,
   "id": "784da91b",
   "metadata": {},
   "outputs": [],
   "source": [
    "#Libreria de blueprints, para spawnear vehiculos, sensores, etc\n",
    "bp_lib = world.get_blueprint_library()"
   ]
  },
  {
   "cell_type": "code",
   "execution_count": 32,
   "id": "723f451e",
   "metadata": {
    "scrolled": false
   },
   "outputs": [],
   "source": [
    "#sensor lidar\n",
    "#Velodyne HDL-64\n",
    "lidar_bp = bp_lib.find('sensor.lidar.ray_cast')\n",
    "#lidar_bp.set_attribute('sensor_tick', '1.0') # 1 segundo tic\n",
    "lidar_bp.set_attribute('channels',str(64))\n",
    "lidar_bp.set_attribute('upper_fov',str(2.0))\n",
    "lidar_bp.set_attribute('lower_fov',str(-24.9))\n",
    "lidar_bp.set_attribute('points_per_second',str(1300000)) #Single Return Mode\n",
    "lidar_bp.set_attribute('rotation_frequency',str(10)) #frec de sim = 1/fixed_delta_time = 10 debe coincidir con la frecuencia de rotación para generar una vuelta completa por paso de simulacion\n",
    "lidar_bp.set_attribute('range',str(120))\n",
    "lidar_bp.set_attribute('dropoff_general_rate','0.0')\n",
    "lidar_bp.set_attribute('noise_stddev', '0.01')"
   ]
  },
  {
   "cell_type": "code",
   "execution_count": 6,
   "id": "7b7075c1",
   "metadata": {},
   "outputs": [
    {
     "name": "stdout",
     "output_type": "stream",
     "text": [
      "Transform(Location(x=134.416214, y=223.933121, z=1.391038), Rotation(pitch=1.836091, yaw=92.013870, roll=0.000054))\n"
     ]
    }
   ],
   "source": [
    "#se puede obtener la ubicacion de la camara durante la simulacion\n",
    "spectator = world.get_spectator()\n",
    "spectator_transform = spectator.get_transform()\n",
    "print(spectator_transform)"
   ]
  },
  {
   "cell_type": "code",
   "execution_count": 33,
   "id": "77b1fc12",
   "metadata": {
    "scrolled": true
   },
   "outputs": [],
   "source": [
    "#Spawnear el sensor, ubicacion esqquina de pruebas en TOWN2\n",
    "transform = carla.Transform(carla.Location(x=135.0, y=223.0, z=1.5), \n",
    "                            carla.Rotation(pitch=0.0, yaw=90.0, roll=0.0))\n",
    "sensor_raycast = world.spawn_actor(lidar_bp, spectator_transform)"
   ]
  },
  {
   "cell_type": "code",
   "execution_count": 27,
   "id": "eceb947a",
   "metadata": {},
   "outputs": [],
   "source": [
    "def lidar_callback(point_cloud):\n",
    "    \"\"\"Prepares a point cloud with intensity\n",
    "    colors ready to be consumed by Open3D\"\"\"\n",
    "    print(point_cloud)\n",
    "    data = np.copy(np.frombuffer(point_cloud.raw_data, dtype=np.dtype('f4')))\n",
    "    data = np.reshape(data, (int(data.shape[0] / 4), 4))\n",
    "\n",
    "    # Isolate the intensity and compute a color for it\n",
    "    intensity = data[:, -1]\n",
    "    \n",
    "    colors = []\n",
    "    for i in range(len(intensity)):\n",
    "        if (intensity[i]<0.5):\n",
    "            colors.append((0.0,0.0,1.0))\n",
    "        else:\n",
    "            colors.append((1.0,0.0,0.0))\n",
    "\n",
    "    # Isolate the 3D data\n",
    "    points = data[:, :-1]\n",
    "    # We're negating the y to correclty visualize a world that matches\n",
    "    # what we see in Unreal since Open3D uses a right-handed coordinate system\n",
    "    points[:, :1] = -points[:, :1]\n",
    "    \n",
    "    #point cloud para visualizar\n",
    "    pcd = o3d.geometry.PointCloud()\n",
    "    pcd.points = o3d.utility.Vector3dVector(points)\n",
    "    pcd.colors = o3d.utility.Vector3dVector(colors)\n",
    "    \n",
    "    o3d.visualization.draw_geometries([pcd])"
   ]
  },
  {
   "cell_type": "code",
   "execution_count": 34,
   "id": "8a629e34",
   "metadata": {},
   "outputs": [],
   "source": [
    "sensor_raycast.listen(lambda data: lidar_callback(data))"
   ]
  },
  {
   "cell_type": "code",
   "execution_count": 36,
   "id": "eb1133eb",
   "metadata": {},
   "outputs": [
    {
     "name": "stdout",
     "output_type": "stream",
     "text": [
      "LidarMeasurement(frame=1188, timestamp=80.534808, number_of_points=84223)\n"
     ]
    },
    {
     "data": {
      "text/plain": [
       "1188"
      ]
     },
     "execution_count": 36,
     "metadata": {},
     "output_type": "execute_result"
    }
   ],
   "source": [
    "world.tick()"
   ]
  }
 ],
 "metadata": {
  "kernelspec": {
   "display_name": "Python 3 (ipykernel)",
   "language": "python",
   "name": "python3"
  },
  "language_info": {
   "codemirror_mode": {
    "name": "ipython",
    "version": 3
   },
   "file_extension": ".py",
   "mimetype": "text/x-python",
   "name": "python",
   "nbconvert_exporter": "python",
   "pygments_lexer": "ipython3",
   "version": "3.8.10"
  }
 },
 "nbformat": 4,
 "nbformat_minor": 5
}
