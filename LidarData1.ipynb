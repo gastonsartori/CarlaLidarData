{
 "cells": [
  {
   "cell_type": "code",
   "execution_count": 4,
   "id": "7958ced5",
   "metadata": {},
   "outputs": [
    {
     "ename": "ModuleNotFoundError",
     "evalue": "No module named 'open3d'",
     "output_type": "error",
     "traceback": [
      "\u001b[0;31m---------------------------------------------------------------------------\u001b[0m",
      "\u001b[0;31mModuleNotFoundError\u001b[0m                       Traceback (most recent call last)",
      "Cell \u001b[0;32mIn [4], line 6\u001b[0m\n\u001b[1;32m      4\u001b[0m \u001b[38;5;28;01mimport\u001b[39;00m \u001b[38;5;21;01mtime\u001b[39;00m\n\u001b[1;32m      5\u001b[0m \u001b[38;5;28;01mimport\u001b[39;00m \u001b[38;5;21;01mnumpy\u001b[39;00m \u001b[38;5;28;01mas\u001b[39;00m \u001b[38;5;21;01mnp\u001b[39;00m\n\u001b[0;32m----> 6\u001b[0m \u001b[38;5;28;01mimport\u001b[39;00m \u001b[38;5;21;01mopen3d\u001b[39;00m \u001b[38;5;28;01mas\u001b[39;00m \u001b[38;5;21;01mo3d\u001b[39;00m\n",
      "\u001b[0;31mModuleNotFoundError\u001b[0m: No module named 'open3d'"
     ]
    }
   ],
   "source": [
    "import carla\n",
    "import math\n",
    "import random\n",
    "import time\n",
    "import numpy as np\n",
    "import open3d as o3d"
   ]
  },
  {
   "cell_type": "code",
   "execution_count": null,
   "id": "8ae3f713",
   "metadata": {},
   "outputs": [],
   "source": [
    "#Conexion cliente-servidor\n",
    "client = carla.Client('localhost', 2000) #cliente\n",
    "world = client.get_world() #world reprsenta la simulacion, server\n",
    "\n",
    "settings = world.get_settings()\n",
    "print(settings)"
   ]
  },
  {
   "cell_type": "code",
   "execution_count": null,
   "id": "3638364d",
   "metadata": {},
   "outputs": [],
   "source": [
    "#settings de simulacion\n",
    "\n",
    "#fixed delta - tiempo entre pasos de simulacion fijo\n",
    "#modo sincrono - el server espera un tick del cliente para ejecutar un paso de simulacion\n",
    "\n",
    "FPS = 40.0\n",
    "settings.fixed_delta_seconds = 1.0/FPS\n",
    "settings.synchronous_mode = True\n",
    "world.apply_settings(settings)"
   ]
  },
  {
   "cell_type": "code",
   "execution_count": null,
   "id": "6e1a984d",
   "metadata": {},
   "outputs": [],
   "source": [
    "#Libreria de blueprints, para spawnear vehiculos, sensores, etc\n",
    "bp_lib = world.get_blueprint_library()"
   ]
  },
  {
   "cell_type": "code",
   "execution_count": 5,
   "id": "97a32e32",
   "metadata": {
    "scrolled": false
   },
   "outputs": [
    {
     "ename": "NameError",
     "evalue": "name 'blueprint_library' is not defined",
     "output_type": "error",
     "traceback": [
      "\u001b[0;31m---------------------------------------------------------------------------\u001b[0m",
      "\u001b[0;31mNameError\u001b[0m                                 Traceback (most recent call last)",
      "Cell \u001b[0;32mIn [5], line 3\u001b[0m\n\u001b[1;32m      1\u001b[0m \u001b[38;5;66;03m#sensor lidar\u001b[39;00m\n\u001b[1;32m      2\u001b[0m \u001b[38;5;66;03m#Velodyne HDL-64\u001b[39;00m\n\u001b[0;32m----> 3\u001b[0m lidar_bp \u001b[38;5;241m=\u001b[39m \u001b[43mblueprint_library\u001b[49m\u001b[38;5;241m.\u001b[39mfind(\u001b[38;5;124m'\u001b[39m\u001b[38;5;124msensor.lidar.ray_cast\u001b[39m\u001b[38;5;124m'\u001b[39m)\n\u001b[1;32m      4\u001b[0m \u001b[38;5;66;03m#lidar_bp.set_attribute('sensor_tick', '1.0') # 1 segundo tic\u001b[39;00m\n\u001b[1;32m      5\u001b[0m lidar_bp\u001b[38;5;241m.\u001b[39mset_attribute(\u001b[38;5;124m'\u001b[39m\u001b[38;5;124mchannels\u001b[39m\u001b[38;5;124m'\u001b[39m,\u001b[38;5;28mstr\u001b[39m(\u001b[38;5;241m64\u001b[39m))\n",
      "\u001b[0;31mNameError\u001b[0m: name 'blueprint_library' is not defined"
     ]
    }
   ],
   "source": [
    "#sensor lidar\n",
    "#Velodyne HDL-64\n",
    "lidar_bp = blueprint_library.find('sensor.lidar.ray_cast')\n",
    "#lidar_bp.set_attribute('sensor_tick', '1.0') # 1 segundo tic\n",
    "lidar_bp.set_attribute('channels',str(64))\n",
    "lidar_bp.set_attribute('upper_fov',str(2.0))\n",
    "lidar_bp.set_attribute('lower_fov',str(-24.9))\n",
    "lidar_bp.set_attribute('points_per_second',str(1300000)) #Single Return Mode\n",
    "lidar_bp.set_attribute('rotation_frequency',str(10)) #frec de sim = 1/fixed_delta_time = 10 debe coincidir con la frecuencia de rotación para generar una vuelta completa por paso de simulacion\n",
    "lidar_bp.set_attribute('range',str(120))\n",
    "lidar_bp.set_attribute('dropoff_general_rate','0.0')\n",
    "lidar_bp.set_attribute('noise_stddev', '0.01')"
   ]
  },
  {
   "cell_type": "code",
   "execution_count": null,
   "id": "a0279e2c",
   "metadata": {},
   "outputs": [],
   "source": [
    "#se puede obtener la ubicacion de la camara durante la simulacion\n",
    "spectator = world.get_spectator()\n",
    "spectator_transform = spectator.get_transform()"
   ]
  },
  {
   "cell_type": "code",
   "execution_count": 6,
   "id": "018ded3f",
   "metadata": {
    "scrolled": true
   },
   "outputs": [
    {
     "ename": "NameError",
     "evalue": "name 'world' is not defined",
     "output_type": "error",
     "traceback": [
      "\u001b[0;31m---------------------------------------------------------------------------\u001b[0m",
      "\u001b[0;31mNameError\u001b[0m                                 Traceback (most recent call last)",
      "Cell \u001b[0;32mIn [6], line 2\u001b[0m\n\u001b[1;32m      1\u001b[0m \u001b[38;5;66;03m#Spawnear el sensor\u001b[39;00m\n\u001b[0;32m----> 2\u001b[0m sensor_raycast \u001b[38;5;241m=\u001b[39m \u001b[43mworld\u001b[49m\u001b[38;5;241m.\u001b[39mspawn_actor(lidar_bp, spectator_transform)\n",
      "\u001b[0;31mNameError\u001b[0m: name 'world' is not defined"
     ]
    }
   ],
   "source": [
    "#Spawnear el sensor\n",
    "sensor_raycast = world.spawn_actor(lidar_bp, spectator_transform)"
   ]
  },
  {
   "cell_type": "code",
   "execution_count": null,
   "id": "84a1a774",
   "metadata": {},
   "outputs": [],
   "source": [
    "def lidar_callback(point_cloud):\n",
    "    \"\"\"Prepares a point cloud with intensity\n",
    "    colors ready to be consumed by Open3D\"\"\"\n",
    "    print(point_cloud)\n",
    "    data = np.copy(np.frombuffer(point_cloud.raw_data, dtype=np.dtype('f4')))\n",
    "    data = np.reshape(data, (int(data.shape[0] / 4), 4))\n",
    "\n",
    "    # Isolate the intensity and compute a color for it\n",
    "    intensity = data[:, -1]\n",
    "\n",
    "    # Isolate the 3D data\n",
    "    points = data[:, :-1]\n",
    "\n",
    "    # We're negating the y to correclty visualize a world that matches\n",
    "    # what we see in Unreal since Open3D uses a right-handed coordinate system\n",
    "    points[:, :1] = -points[:, :1]\n",
    "    \n",
    "    mlab.points3d(points[:,0], points[:,1], points[:,2], intensity, mode='point')\n",
    "    mlab.show()"
   ]
  },
  {
   "cell_type": "code",
   "execution_count": null,
   "id": "ecf7f43b",
   "metadata": {},
   "outputs": [],
   "source": [
    "sensor_raycast.listen(lambda data: lidar_callback(data))"
   ]
  },
  {
   "cell_type": "code",
   "execution_count": null,
   "id": "172f5534",
   "metadata": {},
   "outputs": [],
   "source": [
    "world.tick()"
   ]
  }
 ],
 "metadata": {
  "kernelspec": {
   "display_name": "Python 3 (ipykernel)",
   "language": "python",
   "name": "python3"
  },
  "language_info": {
   "codemirror_mode": {
    "name": "ipython",
    "version": 3
   },
   "file_extension": ".py",
   "mimetype": "text/x-python",
   "name": "python",
   "nbconvert_exporter": "python",
   "pygments_lexer": "ipython3",
   "version": "3.8.10"
  }
 },
 "nbformat": 4,
 "nbformat_minor": 5
}
